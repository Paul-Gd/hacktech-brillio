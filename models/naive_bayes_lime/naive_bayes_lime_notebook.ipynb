{
  "nbformat": 4,
  "nbformat_minor": 0,
  "metadata": {
    "colab": {
      "provenance": []
    },
    "kernelspec": {
      "name": "python3",
      "display_name": "Python 3"
    },
    "language_info": {
      "name": "python"
    }
  },
  "cells": [
    {
      "cell_type": "code",
      "execution_count": null,
      "metadata": {
        "colab": {
          "base_uri": "https://localhost:8080/"
        },
        "id": "5h-F5D7UxDx-",
        "outputId": "6031fd19-fa66-48e0-ce31-4883c5515178"
      },
      "outputs": [
        {
          "output_type": "stream",
          "name": "stdout",
          "text": [
            "Accuracy: 0.8236905721192587\n"
          ]
        }
      ],
      "source": [
        "import pandas as pd\n",
        "import re\n",
        "import joblib  # Use joblib for saving\n",
        "from sklearn.feature_extraction.text import CountVectorizer\n",
        "from sklearn.model_selection import train_test_split\n",
        "from sklearn.naive_bayes import MultinomialNB\n",
        "from sklearn.metrics import accuracy_score\n",
        "\n",
        "# Load dataset\n",
        "train_df = pd.read_csv('./train-dataset_clean.csv')\n",
        "\n",
        "# Drop id column\n",
        "train_df = train_df.drop(['id'], axis=1)\n",
        "\n",
        "# Map labels to integers\n",
        "train_df['label'] = train_df['label'].map({'CG': 1, 'OR': 0}).astype(int)\n",
        "\n",
        "# Clean review text\n",
        "def clean_review(text):\n",
        "    return re.sub(r'[^A-Za-z\\s]', '', text)\n",
        "\n",
        "train_df['review'] = train_df['review'].apply(clean_review)\n",
        "\n",
        "# Split data into features and labels\n",
        "X = train_df[\"review\"]\n",
        "Y = train_df[\"label\"]\n",
        "\n",
        "# Vectorize the text data\n",
        "vectorizer = CountVectorizer()\n",
        "X = vectorizer.fit_transform(X)\n",
        "\n",
        "# Split into training and validation sets\n",
        "X_train, X_val, y_train, y_val = train_test_split(X, Y, test_size=0.3, random_state=42)\n",
        "\n",
        "# Train Naive Bayes model\n",
        "model = MultinomialNB()\n",
        "model.fit(X_train, y_train)\n",
        "\n",
        "# Validate the model\n",
        "y_pred = model.predict(X_val)\n",
        "print(\"Accuracy:\", accuracy_score(y_val, y_pred))"
      ]
    },
    {
      "cell_type": "code",
      "source": [
        "import joblib  # You can also use import pickle\n",
        "\n",
        "# Save the model\n",
        "joblib.dump(model, 'naive_bayes_model2.joblib')\n",
        "\n",
        "# Save the vectorizer\n",
        "joblib.dump(vectorizer, 'count_vectorizer2.joblib')"
      ],
      "metadata": {
        "id": "zw8v8Zc4yIq9",
        "colab": {
          "base_uri": "https://localhost:8080/"
        },
        "outputId": "c12254b3-f776-4972-c8ed-6c531d04153b"
      },
      "execution_count": null,
      "outputs": [
        {
          "output_type": "execute_result",
          "data": {
            "text/plain": [
              "['count_vectorizer2.joblib']"
            ]
          },
          "metadata": {},
          "execution_count": 9
        }
      ]
    }
  ]
}